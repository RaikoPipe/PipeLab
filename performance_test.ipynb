{
 "cells": [
  {
   "cell_type": "code",
   "id": "initial_id",
   "metadata": {
    "collapsed": true,
    "ExecuteTime": {
     "end_time": "2024-12-13T11:30:11.219066Z",
     "start_time": "2024-12-13T11:30:11.215794Z"
    }
   },
   "source": [
    "import path_problem_configuration\n",
    "from path_finding.search_algorithm import find_path\n",
    "import time"
   ],
   "outputs": [],
   "execution_count": 118
  },
  {
   "metadata": {
    "ExecuteTime": {
     "end_time": "2024-12-13T11:30:11.274712Z",
     "start_time": "2024-12-13T11:30:11.220078Z"
    }
   },
   "cell_type": "code",
   "source": [
    "# get path problem\n",
    "path_problem = path_problem_configuration.get_solvable_path_problem_with_random_obstacles(0.25)\n",
    "\n",
    "path_problem.algorithm = \"MCA*\"\n",
    "\n",
    "# generate solution\n",
    "# measure time\n",
    "now1 = time.time()\n",
    "solution1 = find_path(path_problem)\n",
    "finish1 = time.time() - now1"
   ],
   "id": "c9fe95b5f9653419",
   "outputs": [
    {
     "name": "stdout",
     "output_type": "stream",
     "text": [
      "No solution found! Trying again...\n",
      "No solution found! Trying again...\n",
      "No solution found! Trying again...\n",
      "No solution found! Trying again...\n",
      "No solution found! Trying again...\n",
      "No solution found! Trying again...\n",
      "No solution found! Trying again...\n",
      "No solution found! Trying again...\n",
      "No solution found! Trying again...\n",
      "No solution found! Trying again...\n",
      "No solution found! Trying again...\n",
      "No solution found! Trying again...\n",
      "No solution found! Trying again...\n",
      "No solution found! Trying again...\n",
      "No solution found! Trying again...\n",
      "No solution found! Trying again...\n",
      "No solution found! Trying again...\n",
      "No solution found! Trying again...\n",
      "No solution found! Trying again...\n",
      "No solution found! Trying again...\n",
      "No solution found! Trying again...\n",
      "No solution found! Trying again...\n"
     ]
    }
   ],
   "execution_count": 119
  },
  {
   "metadata": {
    "ExecuteTime": {
     "end_time": "2024-12-13T11:30:11.288363Z",
     "start_time": "2024-12-13T11:30:11.275726Z"
    }
   },
   "cell_type": "code",
   "source": [
    "path_problem.algorithm = \"dijkstra\"\n",
    "\n",
    "# generate solution\n",
    "now2 = time.time()\n",
    "solution2 = find_path(path_problem)\n",
    "finish2 = time.time() - now2"
   ],
   "id": "b12d6ae97cb24847",
   "outputs": [],
   "execution_count": 120
  },
  {
   "metadata": {
    "ExecuteTime": {
     "end_time": "2024-12-13T11:30:11.293262Z",
     "start_time": "2024-12-13T11:30:11.289367Z"
    }
   },
   "cell_type": "code",
   "source": [
    "# Compare\n",
    "print(\"MCA*\")\n",
    "print(\"Time: \", finish1)\n",
    "print(\"Cost: \", solution1.score)\n",
    "print(\"MCSA*\")\n",
    "print(\"Time: \", finish2)\n",
    "print(\"Cost: \", solution2.score)"
   ],
   "id": "8802cea151787d70",
   "outputs": [
    {
     "name": "stdout",
     "output_type": "stream",
     "text": [
      "MCA*\n",
      "Time:  0.0070040225982666016\n",
      "Cost:  1.6923076923076927\n",
      "MCSA*\n",
      "Time:  0.009011030197143555\n",
      "Cost:  1.6538461538461542\n"
     ]
    }
   ],
   "execution_count": 121
  },
  {
   "metadata": {
    "ExecuteTime": {
     "end_time": "2024-12-13T11:30:11.296130Z",
     "start_time": "2024-12-13T11:30:11.294274Z"
    }
   },
   "cell_type": "code",
   "source": "",
   "id": "7b29cdefebda5392",
   "outputs": [],
   "execution_count": 121
  }
 ],
 "metadata": {
  "kernelspec": {
   "display_name": "Python 3",
   "language": "python",
   "name": "python3"
  },
  "language_info": {
   "codemirror_mode": {
    "name": "ipython",
    "version": 2
   },
   "file_extension": ".py",
   "mimetype": "text/x-python",
   "name": "python",
   "nbconvert_exporter": "python",
   "pygments_lexer": "ipython2",
   "version": "2.7.6"
  }
 },
 "nbformat": 4,
 "nbformat_minor": 5
}
